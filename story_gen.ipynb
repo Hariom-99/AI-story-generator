{
  "nbformat": 4,
  "nbformat_minor": 0,
  "metadata": {
    "colab": {
      "provenance": [],
      "authorship_tag": "ABX9TyPrn00FosD+TeuxebWz6Ynr",
      "include_colab_link": true
    },
    "kernelspec": {
      "name": "python3",
      "display_name": "Python 3"
    },
    "language_info": {
      "name": "python"
    }
  },
  "cells": [
    {
      "cell_type": "markdown",
      "metadata": {
        "id": "view-in-github",
        "colab_type": "text"
      },
      "source": [
        "<a href=\"https://colab.research.google.com/github/Hariom-99/AI-story-generator/blob/main/story_gen.ipynb\" target=\"_parent\"><img src=\"https://colab.research.google.com/assets/colab-badge.svg\" alt=\"Open In Colab\"/></a>"
      ]
    },
    {
      "cell_type": "code",
      "execution_count": 2,
      "metadata": {
        "colab": {
          "base_uri": "https://localhost:8080/"
        },
        "id": "mFYbYTItwODc",
        "outputId": "c0082e01-f5e2-4b69-8533-50d118dbe18f"
      },
      "outputs": [
        {
          "output_type": "stream",
          "name": "stdout",
          "text": [
            "Requirement already satisfied: transformers in /usr/local/lib/python3.11/dist-packages (4.52.4)\n",
            "Requirement already satisfied: filelock in /usr/local/lib/python3.11/dist-packages (from transformers) (3.18.0)\n",
            "Requirement already satisfied: huggingface-hub<1.0,>=0.30.0 in /usr/local/lib/python3.11/dist-packages (from transformers) (0.33.0)\n",
            "Requirement already satisfied: numpy>=1.17 in /usr/local/lib/python3.11/dist-packages (from transformers) (2.0.2)\n",
            "Requirement already satisfied: packaging>=20.0 in /usr/local/lib/python3.11/dist-packages (from transformers) (24.2)\n",
            "Requirement already satisfied: pyyaml>=5.1 in /usr/local/lib/python3.11/dist-packages (from transformers) (6.0.2)\n",
            "Requirement already satisfied: regex!=2019.12.17 in /usr/local/lib/python3.11/dist-packages (from transformers) (2024.11.6)\n",
            "Requirement already satisfied: requests in /usr/local/lib/python3.11/dist-packages (from transformers) (2.32.3)\n",
            "Requirement already satisfied: tokenizers<0.22,>=0.21 in /usr/local/lib/python3.11/dist-packages (from transformers) (0.21.1)\n",
            "Requirement already satisfied: safetensors>=0.4.3 in /usr/local/lib/python3.11/dist-packages (from transformers) (0.5.3)\n",
            "Requirement already satisfied: tqdm>=4.27 in /usr/local/lib/python3.11/dist-packages (from transformers) (4.67.1)\n",
            "Requirement already satisfied: fsspec>=2023.5.0 in /usr/local/lib/python3.11/dist-packages (from huggingface-hub<1.0,>=0.30.0->transformers) (2025.3.2)\n",
            "Requirement already satisfied: typing-extensions>=3.7.4.3 in /usr/local/lib/python3.11/dist-packages (from huggingface-hub<1.0,>=0.30.0->transformers) (4.14.0)\n",
            "Requirement already satisfied: hf-xet<2.0.0,>=1.1.2 in /usr/local/lib/python3.11/dist-packages (from huggingface-hub<1.0,>=0.30.0->transformers) (1.1.3)\n",
            "Requirement already satisfied: charset-normalizer<4,>=2 in /usr/local/lib/python3.11/dist-packages (from requests->transformers) (3.4.2)\n",
            "Requirement already satisfied: idna<4,>=2.5 in /usr/local/lib/python3.11/dist-packages (from requests->transformers) (3.10)\n",
            "Requirement already satisfied: urllib3<3,>=1.21.1 in /usr/local/lib/python3.11/dist-packages (from requests->transformers) (2.4.0)\n",
            "Requirement already satisfied: certifi>=2017.4.17 in /usr/local/lib/python3.11/dist-packages (from requests->transformers) (2025.4.26)\n"
          ]
        },
        {
          "output_type": "stream",
          "name": "stderr",
          "text": [
            "Device set to use cpu\n"
          ]
        },
        {
          "name": "stdout",
          "output_type": "stream",
          "text": [
            "📝 Enter your story prompt (e.g., 'A robot finds a lost puppy'): A pirate who finds a talking parrot with magical powers\n"
          ]
        },
        {
          "output_type": "stream",
          "name": "stderr",
          "text": [
            "Both `max_new_tokens` (=256) and `max_length`(=300) seem to have been set. `max_new_tokens` will take precedence. Please refer to the documentation for more information. (https://huggingface.co/docs/transformers/main/en/main_classes/text_generation)\n"
          ]
        },
        {
          "output_type": "stream",
          "name": "stdout",
          "text": [
            "\n",
            "📖 Here's your AI-generated story:\n",
            "\n",
            "A pirate who finds a talking parrot with magical powers finds a talking parrot\n",
            "with magical powers. A pirate who finds a talking parrot with magical powers\n",
            "finds a talking parrot with magical powers. A pirate who finds a talking parrot\n",
            "with magical powers finds a talking parrot with magical powers.A pirate who\n",
            "finds a talking parrot with magical powers finds a talking parrot with magical\n",
            "powers.A pirate who finds a talking parrot with magical powers finds a talking\n",
            "parrot with magical powers.A pirate who finds a talking parrot with magical\n",
            "powers finds a talking parrot with magical powers.A pirate who finds a talking\n",
            "parrot with magical powers finds a talking parrot with magical powers.A pirate\n",
            "who finds a talking parrot with magical powers finds a talking parrot with\n",
            "magical powers.A pirate who finds a talking parrot with magical powers finds a\n",
            "talking parrot with magical powers.A pirate who finds a talking parrot with\n",
            "magical powers finds a talking parrot with magical powers.A pirate who finds a\n",
            "talking parrot with magical powers finds a talking parrot with magical powers.A\n",
            "pirate who finds a talking parrot with magical powers finds\n"
          ]
        }
      ],
      "source": [
        "!pip install transformers\n",
        "\n",
        "from transformers import pipeline\n",
        "import textwrap\n",
        "\n",
        "generator = pipeline(\"text2text-generation\", model=\"google/flan-t5-base\")\n",
        "\n",
        "prompt = input(\"📝 Enter your story prompt (e.g., 'A robot finds a lost puppy'): \")\n",
        "\n",
        "formatted_prompt = f\"Write a short and imaginative story about: {prompt}\"\n",
        "\n",
        "response = generator(formatted_prompt, max_length=300, temperature=0.9, do_sample=True)\n",
        "story = response[0]['generated_text']\n",
        "\n",
        "print(\"\\n📖 Here's your AI-generated story:\\n\")\n",
        "print(textwrap.fill(story, width=80))\n"
      ]
    }
  ]
}